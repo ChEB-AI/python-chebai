{
 "cells": [
  {
   "cell_type": "code",
   "execution_count": null,
   "id": "initial_id",
   "metadata": {
    "collapsed": true
   },
   "outputs": [],
   "source": [
    "import pandas as pd\n",
    "\n",
    "from chebai.result.classification import (\n",
    "    evaluate_model,\n",
    "    load_results_from_buffer,\n",
    "    print_metrics,\n",
    ")\n",
    "from chebai.models.electra import Electra\n",
    "from chebai.preprocessing.datasets.chebi import ChEBIOver50, ChEBIOver100\n",
    "import os\n",
    "import tqdm\n",
    "import torch\n",
    "import pickle\n",
    "\n",
    "DEVICE = torch.device(\"cuda:0\" if torch.cuda.is_available() else \"cpu\")\n",
    "print(DEVICE)"
   ]
  },
  {
   "cell_type": "code",
   "execution_count": null,
   "id": "bdb5fc6919cf72be",
   "metadata": {
    "collapsed": false
   },
   "outputs": [],
   "source": [
    "checkpoint_name = \"best_epoch=99_val_loss=0.0096_val_macro-f1=0.5358_val_micro-f1=0.8968\"\n",
    "checkpoint_path = os.path.join(\"logs\", f\"{checkpoint_name}.ckpt\")\n",
    "kind = \"test\"  # replace with \"train\" / \"validation\" to run on train / validation sets\n",
    "buffer_dir = os.path.join(\"results_buffer\", checkpoint_name, kind)\n",
    "# make sure to use the same data module and model class that were used during training\n",
    "data_module = ChEBIOver50(\n",
    "    chebi_version=227, \n",
    ")\n",
    "model_class = Electra"
   ]
  },
  {
   "cell_type": "code",
   "execution_count": null,
   "id": "fa1276b47def696c",
   "metadata": {
    "collapsed": false
   },
   "outputs": [],
   "source": [
    "# evaluates model, stores results in buffer_dir\n",
    "model = model_class.load_from_checkpoint(checkpoint_path)\n",
    "preds, labels = evaluate_model(\n",
    "        model,\n",
    "        data_module,\n",
    "        buffer_dir=buffer_dir,\n",
    "        filename=data_module.processed_file_names_dict[kind],\n",
    "        batch_size=10,\n",
    "    )"
   ]
  },
  {
   "cell_type": "code",
   "execution_count": null,
   "id": "201f750c475b4677",
   "metadata": {
    "collapsed": false
   },
   "outputs": [],
   "source": [
    "# load data from buffer_dir\n",
    "load_results_from_buffer(buffer_dir, device=DEVICE)\n",
    "with open(os.path.join(data_module.raw_dir, \"classes.txt\"), \"r\") as f:\n",
    "    classes = [line.strip() for line in f.readlines()]"
   ]
  },
  {
   "cell_type": "code",
   "execution_count": null,
   "id": "e567cd2fb1718baf",
   "metadata": {
    "collapsed": false
   },
   "outputs": [],
   "source": [
    "# output relevant metrics\n",
    "print_metrics(\n",
    "    preds,\n",
    "    labels.to(torch.int),\n",
    "    DEVICE,\n",
    "    classes=classes,\n",
    "    markdown_output=False,\n",
    "    top_k=10,\n",
    ")"
   ]
  }
 ],
 "metadata": {
  "kernelspec": {
   "display_name": "Python 3",
   "language": "python",
   "name": "python3"
  },
  "language_info": {
   "codemirror_mode": {
    "name": "ipython",
    "version": 2
   },
   "file_extension": ".py",
   "mimetype": "text/x-python",
   "name": "python",
   "nbconvert_exporter": "python",
   "pygments_lexer": "ipython2",
   "version": "3.8.13"
  }
 },
 "nbformat": 4,
 "nbformat_minor": 5
}
