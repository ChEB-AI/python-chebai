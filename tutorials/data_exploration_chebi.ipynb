{
 "cells": [
  {
   "cell_type": "markdown",
   "id": "0bd757ea-a6a0-43f8-8701-cafb44f20f6b",
   "metadata": {},
   "source": [
    "# Introduction\n",
    "\n",
    "This notebook serves as a guide for new users of the `chebai` package, which is used for working with chemical data, especially focusing on ChEBI (Chemical Entities of Biological Interest). This notebook will explain how to instantiate the main data class, how the data files are structured, and how to work with different molecule encodings.\n",
    "\n",
    "One key aspect of the package is its **dataset management system**. In the training process, chemical datasets play a critical role by providing the necessary data for model learning and validation. The chebai package simplifies the handling of these datasets by **automatically creating** them as needed. This means that users do not have to manually prepare datasets before running models; the package will generate and organize the data files based on the parameters and encodings selected. This feature ensures that the right data is available and formatted properly.\n",
    "\n",
    "---\n"
   ]
  },
  {
   "cell_type": "markdown",
   "id": "b810d7c9-4f7f-4725-9bc2-452ff2c3a89d",
   "metadata": {},
   "source": [
    "# 1. Instantiation of a Data Class\n",
    "\n",
    "To start working with `chebai`, you first need to instantiate a ChEBI data class. This class is responsible for managing, interacting with, and preprocessing the ChEBI chemical data\n",
    "### Inheritance Hierarchy\n",
    "\n",
    "ChEBI data classes inherit from [`_DynamicDataset`](https://github.com/ChEB-AI/python-chebai/blob/dev/chebai/preprocessing/datasets/base.py#L597), which in turn inherits from [`XYBaseDataModule`](https://github.com/ChEB-AI/python-chebai/blob/dev/chebai/preprocessing/datasets/base.py#L22). Specifically:\n",
    "\n",
    "- **`_DynamicDataset`**: This class serves as an intermediate base class that provides additional functionality or customization for datasets that require dynamic behavior. It inherits from `XYBaseDataModule`, which provides the core methods for data loading and processing.\n",
    "\n",
    "- **`XYBaseDataModule`**: This is the base class for data modules, providing foundational properties and methods for handling and processing datasets, including data splitting, loading, and preprocessing.\n",
    "\n",
    "In summary, ChEBI data classes are designed to manage and preprocess chemical data effectively by leveraging the capabilities provided by `XYBaseDataModule` through the `_DynamicDataset` intermediary.\n",
    "\n",
    "\n",
    "### Explanation\n",
    "A ChEBI data class can be configured with the following main parameters:\n",
    "\n",
    "- **chebi_version (int)**: Specifies the version of the ChEBI database to be used. The default is `200`. Specifying a version ensures the reproducibility of your experiments by using a consistent dataset.\n",
    "\n",
    "- **chebi_version_train (int, optional)**: The version of ChEBI to use specifically for training and validation. If not set, the `chebi_version` specified will be used for all data splits, including training, validation, and test. Defaults to `None`.\n",
    "\n",
    "- **splits_file_path (str, optional)**: Path to a CSV file containing data splits. If not provided, the class will handle splits internally. Defaults to `None`.\n",
    "\n",
    "### Additional Input Parameters\n",
    "\n",
    "To get more control over various aspects of data loading, processing, and splitting, you can refer to documentation of additional parameters in docstrings of the respective classes: [`_ChEBIDataExtractor`](https://github.com/ChEB-AI/python-chebai/blob/dev/chebai/preprocessing/datasets/chebi.py#L108), [`XYBaseDataModule`](https://github.com/ChEB-AI/python-chebai/blob/dev/chebai/preprocessing/datasets/base.py#L22), [`_DynamicDataset`](https://github.com/ChEB-AI/python-chebai/blob/dev/chebai/preprocessing/datasets/base.py#L597), etc.\n"
   ]
  },
  {
   "cell_type": "markdown",
   "id": "8578b7aa-1bd9-4e50-9eee-01bfc6d5464a",
   "metadata": {},
   "source": [
    "# Available ChEBI Data Classes\n",
    "\n",
    "__Note__: Check the code implementation of classes [here](https://github.com/ChEB-AI/python-chebai/blob/dev/chebai/preprocessing/datasets/chebi.py):\n",
    "\n",
    "## `ChEBIOver100`\n",
    "A class for extracting data from the ChEBI dataset with a threshold of 100 for selecting classes.\n",
    "\n",
    "- **Inheritance**: Inherits from `ChEBIOverX`.\n",
    "\n",
    "## `ChEBIOver50`\n",
    "A class for extracting data from the ChEBI dataset with a threshold of 50 for selecting classes.\n",
    "\n",
    "- **Inheritance**: Inherits from `ChEBIOverX`.\n",
    "\n",
    "## `ChEBIOver100DeepSMILES`\n",
    "A class for extracting data from the ChEBI dataset using the DeepChem SMILES reader with a threshold of 100.\n",
    "\n",
    "- **Inheritance**: Inherits from `ChEBIOverXDeepSMILES` and `ChEBIOver100`.\n",
    "\n",
    "## `ChEBIOver100SELFIES`\n",
    "A class for extracting data from the ChEBI dataset using the SELFIES reader with a threshold of 100.\n",
    "\n",
    "- **Inheritance**: Inherits from `ChEBIOverXSELFIES` and `ChEBIOver100`.\n",
    "\n",
    "## `ChEBIOver50SELFIES`\n",
    "A class for extracting data from the ChEBI dataset using the SELFIES reader with a threshold of 50.\n",
    "\n",
    "- **Inheritance**: Inherits from `ChEBIOverXSELFIES` and `ChEBIOver50`.\n",
    "\n",
    "## `ChEBIOver50Partial`\n",
    "A dataset class that extracts a part of ChEBI based on subclasses of a given top class, with a threshold of 50 for selecting classes.\n",
    "\n",
    "- **Inheritance**: Inherits from `ChEBIOverXPartial` and `ChEBIOver50`.\n"
   ]
  },
  {
   "cell_type": "code",
   "execution_count": 18,
   "id": "f3a66e07-edc9-4aa2-9cd0-d4ea58914d22",
   "metadata": {},
   "outputs": [],
   "source": [
    "from chebai.preprocessing.datasets.chebi import ChEBIOver50"
   ]
  },
  {
   "cell_type": "code",
   "execution_count": 20,
   "id": "a71b7301-6195-4155-a439-f5eb3183d0f3",
   "metadata": {},
   "outputs": [],
   "source": [
    "chebi_class = ChEBIOver50(chebi_version=231)"
   ]
  },
  {
   "cell_type": "markdown",
   "id": "8456b545-88c5-401d-baa5-47e8ae710f04",
   "metadata": {},
   "source": [
    "---"
   ]
  },
  {
   "cell_type": "markdown",
   "id": "1655d489-25fe-46de-9feb-eeca5d36936f",
   "metadata": {},
   "source": [
    "# 2. Preparation / Setup Methods\n",
    "\n",
    "Once a ChEBI data class instance is created, it typically requires preparation before use. This step is necessary to download or load the relevant data files and set up the internal data structures.\n",
    "### Automatic Execution: \n",
    "These methods are executed automatically within the data class instance. Users do not need to call them explicitly, as the code internally manages the preparation and setup of data, ensuring that it is ready for subsequent use in training and validation processes.\n",
    "\n",
    "\n",
    "### Why is Preparation Needed?\n",
    "\n",
    "- **Data Availability**: The preparation step ensures that the required ChEBI data files are downloaded or loaded, which are essential for analysis.\n",
    "- **Data Integrity**: It ensures that the data files are transformed into a compatible format required for model input.\n",
    "\n",
    "### Main Methods for Data Preprocessing\n",
    "\n",
    "The data preprocessing in a data class involves two main methods:\n",
    "\n",
    "1. **`prepare_data` Method**:\n",
    "   - **Purpose**: This method checks for the presence of raw data in the specified directory. If the raw data is missing, it fetches the ontology, creates a dataframe, and saves it to a file (`data.pkl`). The dataframe includes columns such as IDs, data representations, and labels.\n",
    "   - **Documentation**: [PyTorch Lightning - `prepare_data`](https://lightning.ai/docs/pytorch/stable/data/datamodule.html#prepare-data)\n",
    "\n",
    "2. **`setup` Method**:\n",
    "   - **Purpose**: This method sets up the data module for training, validation, and testing. It checks for the processed data and, if necessary, performs additional setup to ensure the data is ready for model input. It also handles cross-validation settings if enabled.\n",
    "   - **Description**: Transforms `data.pkl` into a model input data format (`data.pt`), ensuring that the data is in a format compatible for input to the model. The transformed data contains the following keys: `ident`, `features`, `labels`, and `group`. This method uses a subclass of Data Reader to perform the transformation.\n",
    "   - **Documentation**: [PyTorch Lightning - `setup`](https://lightning.ai/docs/pytorch/stable/data/datamodule.html#setup)\n",
    "\n",
    "These methods ensure that the data is correctly prepared and set up for subsequent use in training and validation processes."
   ]
  },
  {
   "cell_type": "code",
   "execution_count": 36,
   "id": "f2df4bd1-cf34-4414-bce4-54379ffac006",
   "metadata": {},
   "outputs": [
    {
     "name": "stderr",
     "output_type": "stream",
     "text": [
      "Check for processed data in data\\chebi_v231\\ChEBI50\\processed\\smiles_token\n",
      "Cross-validation enabled: False\n"
     ]
    },
    {
     "name": "stdout",
     "output_type": "stream",
     "text": [
      "Check for processed data in data\\chebi_v231\\ChEBI50\\processed\n",
      "saving 771 tokens to G:\\github-aditya0by0\\python-chebai\\chebai\\preprocessing\\bin\\smiles_token\\tokens.txt...\n",
      "first 10 tokens: ['[*-]', '[Al-]', '[F-]', '.', '[H]', '[N]', '(', ')', '[Ag+]', 'C']\n"
     ]
    }
   ],
   "source": [
    "chebi_class.prepare_data()\n",
    "chebi_class.setup()"
   ]
  },
  {
   "cell_type": "markdown",
   "id": "f5aaa12d-5f01-4b74-8b59-72562af953bf",
   "metadata": {},
   "source": [
    "---"
   ]
  },
  {
   "cell_type": "markdown",
   "id": "8ababadb-003a-4c86-b92d-10e7bd1fba5e",
   "metadata": {},
   "source": [
    "# 3. Different Data Files Created and their Structure\n",
    "\n",
    "\n",
    "`chebai` creates and manages several data files during its operation. These files store various chemical data and metadata essential for different tasks. Let’s explore these files and their structures.\n",
    "\n",
    "### Data Files\n",
    "\n",
    "1. **`Raw Data Files`**: (e.g., `.obo` file)\n",
    "   - **Description**: Contains the raw ChEBI ontology data, downloaded directly from the ChEBI website. This file serves as the foundation for data processing.\n",
    "   - **File Path**: `data/${chebi_version}/${dataset_name}/raw/${filename}.obo`\n",
    "\n",
    "2. **`data.pkl`**\n",
    "   - **Description**: Generated by the `prepare_data` method, this file contains processed data in a dataframe format. It includes chemical IDs, data representations (such as SMILES strings), and class columns with boolean values.\n",
    "   - **File Path**: `data/${chebi_version}/${dataset_name}/processed/data.pkl`\n",
    "\n",
    "3. **`data.pt`**\n",
    "   - **Description**: Generated by the `setup` method, this file contains encoded data in a format compatible with the PyTorch library. It includes keys such as `ident`, `features`, `labels`, and `group`, ready for model input.\n",
    "   - **File Path**: `data/${chebi_version}/${dataset_name}/processed/${reader_name}/data.pt`\n",
    "\n",
    "4. **`classes.txt`**\n",
    "   - **Description**: A file containing the list of selected ChEBI classes based on the specified threshold. This file is crucial for ensuring that only relevant classes are included in the dataset.\n",
    "   - **File Path**: `data/${chebi_version}/${dataset_name}/processed/classes.txt`\n",
    "\n",
    "5. **`splits.csv`**\n",
    "   - **Description**: Contains saved data splits from previous runs. During subsequent runs, this file is used to reconstruct the train, validation, and test splits by filtering the encoded data (`data.pt`) based on the IDs stored in `splits.csv`.\n",
    "   - **File Path**: `data/${chebi_version}/${dataset_name}/processed/splits.csv`\n",
    "\n",
    "### File Structure and Preprocessing Stages\n",
    "\n",
    "The `chebai` library follows a three-stage preprocessing pipeline, which is reflected in its file structure:\n",
    "\n",
    "1. **Raw Data Stage**:\n",
    "   - **File**: `chebi.obo`\n",
    "   - **Description**: This stage contains the raw ChEBI ontology data, serving as the initial input for further processing.\n",
    "   - **File Path**: `data/${chebi_version}/${dataset_name}/raw/${filename}.obo`\n",
    "\n",
    "2. **Processed Data Stage 1**:\n",
    "   - **File**: `data.pkl`\n",
    "   - **Description**: This stage includes the data after initial processing. It contains SMILES strings, class columns, and metadata but lacks data splits.\n",
    "   - **File Path**: `data/${chebi_version}/${dataset_name}/processed/data.pkl`\n",
    "   - **Additional File**: `classes.txt` - A file listing the relevant ChEBI classes.\n",
    "\n",
    "3. **Processed Data Stage 2**:\n",
    "   - **File**: `data.pt`\n",
    "   - **Description**: This final stage includes the encoded data in a format compatible with PyTorch, ready for model input. This stage also references data splits when available.\n",
    "   - **File Path**: `data/${chebi_version}/${dataset_name}/processed/${reader_name}/data.pt`\n",
    "   - **Additional File**: `splits.csv` - Contains saved splits for reproducibility.\n",
    "\n",
    "### Data Splits\n",
    "\n",
    "- **Creation**: Data splits are generated dynamically \"on the fly\" during training and evaluation to ensure flexibility and adaptability to different tasks.\n",
    "- **Reproducibility**: To maintain consistency across different runs, splits can be reproduced by comparing hashes with a fixed seed value.\n",
    "\n",
    "### Summary of File Paths\n",
    "\n",
    "- **Raw Data**: `data/${chebi_version}/${dataset_name}/raw`\n",
    "- **Processed Data 1**: `data/${chebi_version}/${dataset_name}/processed`\n",
    "- **Processed Data 2**: `data/${chebi_version}/${dataset_name}/processed/${reader_name}`\n",
    "\n",
    "This structured approach to data management ensures that each stage of data processing is well-organized and documented, from raw data acquisition to the preparation of model-ready inputs. It also facilitates reproducibility and traceability across different experiments."
   ]
  },
  {
   "cell_type": "markdown",
   "id": "a35c1d2b-9d6b-4c10-828b-b5912752c757",
   "metadata": {},
   "source": [
    "---"
   ]
  },
  {
   "cell_type": "markdown",
   "id": "74adb549-9e02-472d-a535-78a584853b52",
   "metadata": {},
   "source": [
    "# 4. Information Stored in the Files\n"
   ]
  },
  {
   "cell_type": "markdown",
   "id": "43329709-5134-4ce5-88e7-edd2176bf84d",
   "metadata": {},
   "source": [
    "## chebi.obo\n",
    "\n",
    "The `chebi.obo` file is a key resource in the ChEBI (Chemical Entities of Biological Interest) dataset, containing the ontology data that defines various chemical entities and their relationships. This file is downloaded directly from the ChEBI database and serves as the foundational raw data for further processing in `chebai`.\n",
    "\n",
    "### Structure of `chebi.obo`\n",
    "\n",
    "The `chebi.obo` file is organized into blocks of text known as \"term documents.\" Each block starts with a `[Term]` header and contains various attributes that describe a specific chemical entity within the ChEBI ontology. These attributes include identifiers, names, relationships to other entities, and more.\n",
    "\n",
    "#### Example of a Term Document\n",
    "\n",
    "```plaintext\n",
    "[Term]\n",
    "id: CHEBI:24867\n",
    "name: monoatomic ion\n",
    "subset: 3_STAR\n",
    "synonym: \"monoatomic ions\" RELATED [ChEBI]\n",
    "is_a: CHEBI:24870\n",
    "is_a: CHEBI:33238\n",
    "is_a: CHEBI:3323Relevant 8\n",
    "```\n",
    "\n",
    "### Breakdown of Attributes\n",
    "\n",
    "Each term document in the `chebi.obo` file consists of the following key attributes:\n",
    "\n",
    "- **`[Term]`**: \n",
    "  - **Description**: Indicates the beginning of a new term in the ontology. Each term represents a distinct chemical entity.\n",
    "\n",
    "- **`id: CHEBI:24867`**: \n",
    "  - **Description**: A unique identifier for the chemical entity within the ChEBI database.\n",
    "  - **Example**: `CHEBI:24867` refers to the entity \"monoatomic ion.\"\n",
    "\n",
    "- **`name: monoatomic ion`**: \n",
    "  - **Description**: The common name of the chemical entity. This is the main descriptor used to identify the term.\n",
    "  - **Example**: \"monoatomic ion\" is the namcating a related term within the ChEBI ontology.\n",
    "\n",
    "- **`is_a: CHEBI:24870`** and **`is_a: CHEBI:33238`**: \n",
    "  - **Description**: Defines hierarchical relationships to other terms within the ontology. The `is_a` attribute indicates that the current entity is a subclass or specific instance of the referenced term.\n",
    "  - **Example**: The entity `CHEBI:24867` (\"monoatomic ion\") is a subclass of both `CHEBI:24870` and `CHEBI:33238`, meaent stages of preprocessing, from raw input files to processed, model-ready formats."
   ]
  },
  {
   "cell_type": "markdown",
   "id": "322bc926-69ff-4b93-9e95-5e8b85869c38",
   "metadata": {},
   "source": [
    "## `data.pkl` File\n",
    "\n",
    "The `data.pkl` file, generated during the preprocessing stage, contains the processed ChEBI data in a dataframe format. Below is an example of how this data is structured:\n",
    "\n",
    "\n",
    "\n",
    "### Structure of `data.pkl`\n",
    "`data.pkl` as following structure: \n",
    "- **Column 0**: Contains the ID of each ChEBI data instance.\n",
    "- **Column 1**: Contains the name of each ChEBI data instance.\n",
    "- **Column 2**: Contains the SMILES representation of the chemical.\n",
    "- **Column 3 and onwards**: Contains the labels, starting from column 3.\n",
    "\n",
    "This structure ensures that the data is organized and ready for further processing, such as further encoding.\n"
   ]
  },
  {
   "cell_type": "code",
   "execution_count": 49,
   "id": "fd490270-59b8-4c1c-8b09-204defddf592",
   "metadata": {},
   "outputs": [],
   "source": [
    "import pandas as pd"
   ]
  },
  {
   "cell_type": "code",
   "execution_count": 53,
   "id": "d7d16247-092c-4e8d-96c2-ab23931cf766",
   "metadata": {},
   "outputs": [
    {
     "name": "stdout",
     "output_type": "stream",
     "text": [
      "Size of the data (rows x columns):  (129184, 1335)\n"
     ]
    },
    {
     "data": {
      "text/html": [
       "<div>\n",
       "<style scoped>\n",
       "    .dataframe tbody tr th:only-of-type {\n",
       "        vertical-align: middle;\n",
       "    }\n",
       "\n",
       "    .dataframe tbody tr th {\n",
       "        vertical-align: top;\n",
       "    }\n",
       "\n",
       "    .dataframe thead th {\n",
       "        text-align: right;\n",
       "    }\n",
       "</style>\n",
       "<table border=\"1\" class=\"dataframe\">\n",
       "  <thead>\n",
       "    <tr style=\"text-align: right;\">\n",
       "      <th></th>\n",
       "      <th>id</th>\n",
       "      <th>name</th>\n",
       "      <th>SMILES</th>\n",
       "      <th>1722</th>\n",
       "      <th>2468</th>\n",
       "      <th>2571</th>\n",
       "      <th>2580</th>\n",
       "      <th>2634</th>\n",
       "      <th>3098</th>\n",
       "      <th>3992</th>\n",
       "      <th>...</th>\n",
       "      <th>143017</th>\n",
       "      <th>143212</th>\n",
       "      <th>143813</th>\n",
       "      <th>146180</th>\n",
       "      <th>147334</th>\n",
       "      <th>156473</th>\n",
       "      <th>166828</th>\n",
       "      <th>166904</th>\n",
       "      <th>167497</th>\n",
       "      <th>167559</th>\n",
       "    </tr>\n",
       "  </thead>\n",
       "  <tbody>\n",
       "    <tr>\n",
       "      <th>0</th>\n",
       "      <td>33429</td>\n",
       "      <td>monoatomic monoanion</td>\n",
       "      <td>[*-]</td>\n",
       "      <td>False</td>\n",
       "      <td>False</td>\n",
       "      <td>False</td>\n",
       "      <td>False</td>\n",
       "      <td>False</td>\n",
       "      <td>False</td>\n",
       "      <td>False</td>\n",
       "      <td>...</td>\n",
       "      <td>False</td>\n",
       "      <td>False</td>\n",
       "      <td>False</td>\n",
       "      <td>False</td>\n",
       "      <td>False</td>\n",
       "      <td>False</td>\n",
       "      <td>False</td>\n",
       "      <td>False</td>\n",
       "      <td>False</td>\n",
       "      <td>False</td>\n",
       "    </tr>\n",
       "    <tr>\n",
       "      <th>1</th>\n",
       "      <td>30151</td>\n",
       "      <td>aluminide(1-)</td>\n",
       "      <td>[Al-]</td>\n",
       "      <td>False</td>\n",
       "      <td>False</td>\n",
       "      <td>False</td>\n",
       "      <td>False</td>\n",
       "      <td>False</td>\n",
       "      <td>False</td>\n",
       "      <td>False</td>\n",
       "      <td>...</td>\n",
       "      <td>False</td>\n",
       "      <td>False</td>\n",
       "      <td>False</td>\n",
       "      <td>False</td>\n",
       "      <td>False</td>\n",
       "      <td>False</td>\n",
       "      <td>False</td>\n",
       "      <td>False</td>\n",
       "      <td>False</td>\n",
       "      <td>False</td>\n",
       "    </tr>\n",
       "    <tr>\n",
       "      <th>2</th>\n",
       "      <td>16042</td>\n",
       "      <td>halide anion</td>\n",
       "      <td>[*-]</td>\n",
       "      <td>False</td>\n",
       "      <td>False</td>\n",
       "      <td>False</td>\n",
       "      <td>False</td>\n",
       "      <td>False</td>\n",
       "      <td>False</td>\n",
       "      <td>False</td>\n",
       "      <td>...</td>\n",
       "      <td>False</td>\n",
       "      <td>False</td>\n",
       "      <td>False</td>\n",
       "      <td>False</td>\n",
       "      <td>False</td>\n",
       "      <td>False</td>\n",
       "      <td>False</td>\n",
       "      <td>False</td>\n",
       "      <td>False</td>\n",
       "      <td>False</td>\n",
       "    </tr>\n",
       "    <tr>\n",
       "      <th>3</th>\n",
       "      <td>17051</td>\n",
       "      <td>fluoride</td>\n",
       "      <td>[F-]</td>\n",
       "      <td>False</td>\n",
       "      <td>False</td>\n",
       "      <td>False</td>\n",
       "      <td>False</td>\n",
       "      <td>False</td>\n",
       "      <td>False</td>\n",
       "      <td>False</td>\n",
       "      <td>...</td>\n",
       "      <td>False</td>\n",
       "      <td>False</td>\n",
       "      <td>False</td>\n",
       "      <td>False</td>\n",
       "      <td>False</td>\n",
       "      <td>False</td>\n",
       "      <td>False</td>\n",
       "      <td>False</td>\n",
       "      <td>False</td>\n",
       "      <td>False</td>\n",
       "    </tr>\n",
       "    <tr>\n",
       "      <th>4</th>\n",
       "      <td>28741</td>\n",
       "      <td>sodium fluoride</td>\n",
       "      <td>[F-].[Na+]</td>\n",
       "      <td>False</td>\n",
       "      <td>False</td>\n",
       "      <td>False</td>\n",
       "      <td>False</td>\n",
       "      <td>False</td>\n",
       "      <td>False</td>\n",
       "      <td>False</td>\n",
       "      <td>...</td>\n",
       "      <td>False</td>\n",
       "      <td>False</td>\n",
       "      <td>False</td>\n",
       "      <td>False</td>\n",
       "      <td>False</td>\n",
       "      <td>False</td>\n",
       "      <td>False</td>\n",
       "      <td>False</td>\n",
       "      <td>False</td>\n",
       "      <td>False</td>\n",
       "    </tr>\n",
       "  </tbody>\n",
       "</table>\n",
       "<p>5 rows × 1335 columns</p>\n",
       "</div>"
      ],
      "text/plain": [
       "      id                  name      SMILES   1722   2468   2571   2580   2634  \\\n",
       "0  33429  monoatomic monoanion        [*-]  False  False  False  False  False   \n",
       "1  30151         aluminide(1-)       [Al-]  False  False  False  False  False   \n",
       "2  16042          halide anion        [*-]  False  False  False  False  False   \n",
       "3  17051              fluoride        [F-]  False  False  False  False  False   \n",
       "4  28741       sodium fluoride  [F-].[Na+]  False  False  False  False  False   \n",
       "\n",
       "    3098   3992  ...  143017  143212  143813  146180  147334  156473  166828  \\\n",
       "0  False  False  ...   False   False   False   False   False   False   False   \n",
       "1  False  False  ...   False   False   False   False   False   False   False   \n",
       "2  False  False  ...   False   False   False   False   False   False   False   \n",
       "3  False  False  ...   False   False   False   False   False   False   False   \n",
       "4  False  False  ...   False   False   False   False   False   False   False   \n",
       "\n",
       "   166904  167497  167559  \n",
       "0   False   False   False  \n",
       "1   False   False   False  \n",
       "2   False   False   False  \n",
       "3   False   False   False  \n",
       "4   False   False   False  \n",
       "\n",
       "[5 rows x 1335 columns]"
      ]
     },
     "execution_count": 53,
     "metadata": {},
     "output_type": "execute_result"
    }
   ],
   "source": [
    "pkl_df = pd.DataFrame(pd.read_pickle(r\"data/chebi_v200/ChEBI50/processed/data.pkl\"))\n",
    "print(\"Size of the data (rows x columns): \", pkl_df.shape)\n",
    "pkl_df.head()"
   ]
  },
  {
   "cell_type": "markdown",
   "id": "0d80ffbb-5f1e-4489-9bc8-d688c9be1d07",
   "metadata": {},
   "source": [
    "## `data.pt` File\n",
    "\n",
    "The `data.pt` file is an important output of the preprocessing stage in `chebai`. It contains data in a format compatible with PyTorch, specifically as a list of dictionaries. Each dictionary in this list is structured to hold key information used for model training and evaluation.\n",
    "\n",
    "### Structure of `data.pt`\n",
    "\n",
    "The `data.pt` file is a list where each element is a dictionary with the following keys:\n",
    "\n",
    "- **`features`**: \n",
    "  - **Description**: This key holds the input features for the model. The features are typically stored as tensors and represent the attributes used by the model for training and evaluation.\n",
    "\n",
    "- **`labels`**: \n",
    "  - **Description**: This key contains the labels or target values associated with each instance. Labels are also stored as tensors and are used by the model to learn and make predictions.\n",
    "\n",
    "- **`ident`**: \n",
    "  - **Description**: This key holds identifiers for each data instance. These identifiers help track and reference the individual samples in the dataset.\n"
   ]
  },
  {
   "cell_type": "code",
   "execution_count": 75,
   "id": "977ddd83-b469-4b58-ab1a-8574fb8769b4",
   "metadata": {},
   "outputs": [],
   "source": [
    "import torch"
   ]
  },
  {
   "cell_type": "code",
   "execution_count": 77,
   "id": "3266ade9-efdc-49fe-ae07-ed52b2eb52d0",
   "metadata": {},
   "outputs": [
    {
     "name": "stdout",
     "output_type": "stream",
     "text": [
      "Type of loaded data: <class 'list'>\n"
     ]
    }
   ],
   "source": [
    "data_pt = torch.load(r\"data/chebi_v200/ChEBI50/processed/smiles_token/data.pt\")\n",
    "print(\"Type of loaded data:\", type(data_pt))"
   ]
  },
  {
   "cell_type": "code",
   "execution_count": 81,
   "id": "84cfa3e6-f60d-47c0-9f82-db3d5673d1e7",
   "metadata": {},
   "outputs": [
    {
     "name": "stdout",
     "output_type": "stream",
     "text": [
      "{'features': [10], 'labels': array([False, False, False, ..., False, False, False]), 'ident': 33429, 'group': None}\n",
      "{'features': [11], 'labels': array([False, False, False, ..., False, False, False]), 'ident': 30151, 'group': None}\n",
      "{'features': [10], 'labels': array([False, False, False, ..., False, False, False]), 'ident': 16042, 'group': None}\n",
      "{'features': [12], 'labels': array([False, False, False, ..., False, False, False]), 'ident': 17051, 'group': None}\n",
      "{'features': [12, 13, 32], 'labels': array([False, False, False, ..., False, False, False]), 'ident': 28741, 'group': None}\n"
     ]
    }
   ],
   "source": [
    "for i in range(5):\n",
    "    print(data_pt[i])"
   ]
  },
  {
   "cell_type": "markdown",
   "id": "861da1c3-0401-49f0-a22f-109814ed95d5",
   "metadata": {},
   "source": [
    "## `classes.txt` File\n",
    "\n",
    "The `classes.txt` file lists selected ChEBI (Chemical Entities of Biological Interest) classes. These classes are chosen based on a specified threshold, which is typically used for filtering or categorizing the dataset. Each line in the file corresponds to a unique ChEBI class ID, identifying specific chemical entities within the ChEBI ontology.\n",
    "\n",
    "This file is essential for organizing the data and ensuring that only relevant classes, as defined by the threshold, are included in subsequent processing and analysis tasks.\n"
   ]
  },
  {
   "cell_type": "code",
   "execution_count": 87,
   "id": "8d1fbe6c-beb8-4038-93d4-c56bc7628716",
   "metadata": {},
   "outputs": [
    {
     "name": "stdout",
     "output_type": "stream",
     "text": [
      "1722\n",
      "2468\n",
      "2571\n",
      "2580\n",
      "2634\n"
     ]
    }
   ],
   "source": [
    "with open(r\"data/chebi_v200/ChEBI50/processed/classes.txt\", \"r\") as file:\n",
    "    for i in range(5):\n",
    "        line = file.readline()\n",
    "        print(line.strip())"
   ]
  },
  {
   "cell_type": "markdown",
   "id": "b058714f-e434-4367-89b9-74c129ac727f",
   "metadata": {},
   "source": [
    "## `splits.csv` File\n",
    "\n",
    "The `splits.csv` file contains the saved data splits from previous runs, including the train, validation, and test sets. During subsequent runs, this file is used to reconstruct these splits by filtering the encoded data (`data.pt`) based on the IDs stored in `splits.csv`. This ensures consistency and reproducibility in data splitting, allowing for reliable evaluation and comparison of model performance across different run.\n"
   ]
  },
  {
   "cell_type": "code",
   "execution_count": 98,
   "id": "3ebdcae4-4344-46bd-8fc0-a82ef5d40da5",
   "metadata": {},
   "outputs": [
    {
     "data": {
      "text/html": [
       "<div>\n",
       "<style scoped>\n",
       "    .dataframe tbody tr th:only-of-type {\n",
       "        vertical-align: middle;\n",
       "    }\n",
       "\n",
       "    .dataframe tbody tr th {\n",
       "        vertical-align: top;\n",
       "    }\n",
       "\n",
       "    .dataframe thead th {\n",
       "        text-align: right;\n",
       "    }\n",
       "</style>\n",
       "<table border=\"1\" class=\"dataframe\">\n",
       "  <thead>\n",
       "    <tr style=\"text-align: right;\">\n",
       "      <th></th>\n",
       "      <th>id</th>\n",
       "      <th>split</th>\n",
       "    </tr>\n",
       "  </thead>\n",
       "  <tbody>\n",
       "    <tr>\n",
       "      <th>0</th>\n",
       "      <td>33429</td>\n",
       "      <td>train</td>\n",
       "    </tr>\n",
       "    <tr>\n",
       "      <th>1</th>\n",
       "      <td>30151</td>\n",
       "      <td>train</td>\n",
       "    </tr>\n",
       "    <tr>\n",
       "      <th>2</th>\n",
       "      <td>17051</td>\n",
       "      <td>train</td>\n",
       "    </tr>\n",
       "    <tr>\n",
       "      <th>3</th>\n",
       "      <td>32129</td>\n",
       "      <td>train</td>\n",
       "    </tr>\n",
       "    <tr>\n",
       "      <th>4</th>\n",
       "      <td>30340</td>\n",
       "      <td>train</td>\n",
       "    </tr>\n",
       "  </tbody>\n",
       "</table>\n",
       "</div>"
      ],
      "text/plain": [
       "      id  split\n",
       "0  33429  train\n",
       "1  30151  train\n",
       "2  17051  train\n",
       "3  32129  train\n",
       "4  30340  train"
      ]
     },
     "execution_count": 98,
     "metadata": {},
     "output_type": "execute_result"
    }
   ],
   "source": [
    "csv_df = pd.read_csv(r\"data/chebi_v231/ChEBI50/processed/splits.csv\")\n",
    "csv_df.head()"
   ]
  },
  {
   "cell_type": "markdown",
   "id": "a5eb482c-ce5b-4efc-b2ec-85ac7b1a78ee",
   "metadata": {},
   "source": [
    "---"
   ]
  },
  {
   "cell_type": "markdown",
   "id": "ab110764-216d-4d52-a9d1-4412c8ac8c9d",
   "metadata": {},
   "source": [
    "# 5. Example Molecule: Different Encodings\n",
    "\n",
    "`chebai` supports various encodings for molecules, such as SMILES and SELFIES. Let's take an example molecule and explore its different encodings.\n",
    "\n",
    "### Explanation:\n",
    "- **SMILES (Simplified Molecular Input Line Entry System)**: A linear notation for representing molecular structures.\n",
    "- **SELFIES (SELF-referencIng Embedded Strings)**: A more robust encoding that can handle a broader range of chemical structures.\n",
    "\n",
    "To illustrate different encodings of a molecule, let's consider the molecule **benzene**, which has the chemical formula **C₆H₆**. Here are the different encodings for benzene:\n",
    "\n",
    "### 1. **SMILES (Simplified Molecular Input Line Entry System)**\n",
    "   - **Benzene SMILES**: `c1ccccc1`\n",
    "   - **Explanation**: \n",
    "     - `c1ccccc1` represents a six-membered aromatic ring, with lowercase `c` indicating aromatic carbon atoms.\n",
    "\n",
    "### 2. **SELFIES (SELF-referencIng Embedded Strings)**\n",
    "   - **Benzene SELFIES**: `[C][=C][C][=C][C][=C]`\n",
    "   - **Explanation**: \n",
    "     - Each `[C]` represents a carbon atom, and `[=C]` represents a carbon atom with a double bond.\n",
    "     - SELFIES encodes the alternating single and double bonds in benzene's aromatic ring.\n",
    "\n",
    "These different encodings provide various ways to represent the structure and properties of benzene, each suited to different computational tasks such as molecule identification, database searches, and pattern recognition in cheminformatics."
   ]
  },
  {
   "cell_type": "markdown",
   "id": "93e328cf-09f9-4694-b175-28320590937d",
   "metadata": {},
   "source": [
    "---"
   ]
  }
 ],
 "metadata": {
  "kernelspec": {
   "display_name": "Python (env_chebai)",
   "language": "python",
   "name": "env_chebai"
  },
  "language_info": {
   "codemirror_mode": {
    "name": "ipython",
    "version": 3
   },
   "file_extension": ".py",
   "mimetype": "text/x-python",
   "name": "python",
   "nbconvert_exporter": "python",
   "pygments_lexer": "ipython3",
   "version": "3.10.14"
  }
 },
 "nbformat": 4,
 "nbformat_minor": 5
}
